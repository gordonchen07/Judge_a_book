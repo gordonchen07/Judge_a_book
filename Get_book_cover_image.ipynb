{
 "cells": [
  {
   "cell_type": "code",
   "execution_count": 1,
   "metadata": {},
   "outputs": [],
   "source": [
    "import pandas as pd\n",
    "import matplotlib.pyplot as plt\n",
    "%matplotlib inline"
   ]
  },
  {
   "cell_type": "code",
   "execution_count": 2,
   "metadata": {},
   "outputs": [],
   "source": [
    "df = pd.read_json('goodreads_books_children.json', lines=True)"
   ]
  },
  {
   "cell_type": "code",
   "execution_count": 3,
   "metadata": {},
   "outputs": [
    {
     "data": {
      "text/html": [
       "<div>\n",
       "<style scoped>\n",
       "    .dataframe tbody tr th:only-of-type {\n",
       "        vertical-align: middle;\n",
       "    }\n",
       "\n",
       "    .dataframe tbody tr th {\n",
       "        vertical-align: top;\n",
       "    }\n",
       "\n",
       "    .dataframe thead th {\n",
       "        text-align: right;\n",
       "    }\n",
       "</style>\n",
       "<table border=\"1\" class=\"dataframe\">\n",
       "  <thead>\n",
       "    <tr style=\"text-align: right;\">\n",
       "      <th></th>\n",
       "      <th>isbn</th>\n",
       "      <th>text_reviews_count</th>\n",
       "      <th>series</th>\n",
       "      <th>country_code</th>\n",
       "      <th>language_code</th>\n",
       "      <th>popular_shelves</th>\n",
       "      <th>asin</th>\n",
       "      <th>is_ebook</th>\n",
       "      <th>average_rating</th>\n",
       "      <th>kindle_asin</th>\n",
       "      <th>...</th>\n",
       "      <th>publication_month</th>\n",
       "      <th>edition_information</th>\n",
       "      <th>publication_year</th>\n",
       "      <th>url</th>\n",
       "      <th>image_url</th>\n",
       "      <th>book_id</th>\n",
       "      <th>ratings_count</th>\n",
       "      <th>work_id</th>\n",
       "      <th>title</th>\n",
       "      <th>title_without_series</th>\n",
       "    </tr>\n",
       "  </thead>\n",
       "  <tbody>\n",
       "    <tr>\n",
       "      <th>0</th>\n",
       "      <td>1599150603</td>\n",
       "      <td>7</td>\n",
       "      <td>[]</td>\n",
       "      <td>US</td>\n",
       "      <td></td>\n",
       "      <td>[{'count': '56', 'name': 'to-read'}, {'count':...</td>\n",
       "      <td></td>\n",
       "      <td>false</td>\n",
       "      <td>4.13</td>\n",
       "      <td>B00DU10PUG</td>\n",
       "      <td>...</td>\n",
       "      <td>9</td>\n",
       "      <td></td>\n",
       "      <td>2006</td>\n",
       "      <td>https://www.goodreads.com/book/show/287141.The...</td>\n",
       "      <td>https://s.gr-assets.com/assets/nophoto/book/11...</td>\n",
       "      <td>287141</td>\n",
       "      <td>46</td>\n",
       "      <td>278578</td>\n",
       "      <td>The Aeneid for Boys and Girls</td>\n",
       "      <td>The Aeneid for Boys and Girls</td>\n",
       "    </tr>\n",
       "    <tr>\n",
       "      <th>1</th>\n",
       "      <td>1934876569</td>\n",
       "      <td>6</td>\n",
       "      <td>[151854]</td>\n",
       "      <td>US</td>\n",
       "      <td></td>\n",
       "      <td>[{'count': '515', 'name': 'to-read'}, {'count'...</td>\n",
       "      <td></td>\n",
       "      <td>false</td>\n",
       "      <td>4.22</td>\n",
       "      <td></td>\n",
       "      <td>...</td>\n",
       "      <td>3</td>\n",
       "      <td></td>\n",
       "      <td>2009</td>\n",
       "      <td>https://www.goodreads.com/book/show/6066812-al...</td>\n",
       "      <td>https://images.gr-assets.com/books/1316637798m...</td>\n",
       "      <td>6066812</td>\n",
       "      <td>98</td>\n",
       "      <td>701117</td>\n",
       "      <td>All's Fairy in Love and War (Avalon: Web of Ma...</td>\n",
       "      <td>All's Fairy in Love and War (Avalon: Web of Ma...</td>\n",
       "    </tr>\n",
       "    <tr>\n",
       "      <th>2</th>\n",
       "      <td>0590417010</td>\n",
       "      <td>193</td>\n",
       "      <td>[]</td>\n",
       "      <td>US</td>\n",
       "      <td>eng</td>\n",
       "      <td>[{'count': '450', 'name': 'to-read'}, {'count'...</td>\n",
       "      <td></td>\n",
       "      <td>false</td>\n",
       "      <td>4.43</td>\n",
       "      <td>B017RORXNI</td>\n",
       "      <td>...</td>\n",
       "      <td>9</td>\n",
       "      <td></td>\n",
       "      <td>1995</td>\n",
       "      <td>https://www.goodreads.com/book/show/89378.Dog_...</td>\n",
       "      <td>https://images.gr-assets.com/books/1360057676m...</td>\n",
       "      <td>89378</td>\n",
       "      <td>1331</td>\n",
       "      <td>86259</td>\n",
       "      <td>Dog Heaven</td>\n",
       "      <td>Dog Heaven</td>\n",
       "    </tr>\n",
       "    <tr>\n",
       "      <th>3</th>\n",
       "      <td>0915190575</td>\n",
       "      <td>4</td>\n",
       "      <td>[]</td>\n",
       "      <td>US</td>\n",
       "      <td></td>\n",
       "      <td>[{'count': '8', 'name': 'to-read'}, {'count': ...</td>\n",
       "      <td></td>\n",
       "      <td>false</td>\n",
       "      <td>4.29</td>\n",
       "      <td></td>\n",
       "      <td>...</td>\n",
       "      <td></td>\n",
       "      <td></td>\n",
       "      <td></td>\n",
       "      <td>https://www.goodreads.com/book/show/3209312-mo...</td>\n",
       "      <td>https://s.gr-assets.com/assets/nophoto/book/11...</td>\n",
       "      <td>3209312</td>\n",
       "      <td>11</td>\n",
       "      <td>3242879</td>\n",
       "      <td>Moths and Mothers, Feathers and Fathers: A Sto...</td>\n",
       "      <td>Moths and Mothers, Feathers and Fathers: A Sto...</td>\n",
       "    </tr>\n",
       "    <tr>\n",
       "      <th>4</th>\n",
       "      <td>1416904999</td>\n",
       "      <td>4</td>\n",
       "      <td>[]</td>\n",
       "      <td>US</td>\n",
       "      <td></td>\n",
       "      <td>[{'count': '8', 'name': 'to-read'}, {'count': ...</td>\n",
       "      <td></td>\n",
       "      <td>false</td>\n",
       "      <td>3.57</td>\n",
       "      <td></td>\n",
       "      <td>...</td>\n",
       "      <td>6</td>\n",
       "      <td></td>\n",
       "      <td>2005</td>\n",
       "      <td>https://www.goodreads.com/book/show/1698376.Wh...</td>\n",
       "      <td>https://s.gr-assets.com/assets/nophoto/book/11...</td>\n",
       "      <td>1698376</td>\n",
       "      <td>23</td>\n",
       "      <td>1695373</td>\n",
       "      <td>What Do You Do?</td>\n",
       "      <td>What Do You Do?</td>\n",
       "    </tr>\n",
       "  </tbody>\n",
       "</table>\n",
       "<p>5 rows × 29 columns</p>\n",
       "</div>"
      ],
      "text/plain": [
       "         isbn  text_reviews_count    series country_code language_code  \\\n",
       "0  1599150603                   7        []           US                 \n",
       "1  1934876569                   6  [151854]           US                 \n",
       "2  0590417010                 193        []           US           eng   \n",
       "3  0915190575                   4        []           US                 \n",
       "4  1416904999                   4        []           US                 \n",
       "\n",
       "                                     popular_shelves asin is_ebook  \\\n",
       "0  [{'count': '56', 'name': 'to-read'}, {'count':...         false   \n",
       "1  [{'count': '515', 'name': 'to-read'}, {'count'...         false   \n",
       "2  [{'count': '450', 'name': 'to-read'}, {'count'...         false   \n",
       "3  [{'count': '8', 'name': 'to-read'}, {'count': ...         false   \n",
       "4  [{'count': '8', 'name': 'to-read'}, {'count': ...         false   \n",
       "\n",
       "   average_rating kindle_asin  ... publication_month edition_information  \\\n",
       "0            4.13  B00DU10PUG  ...                 9                       \n",
       "1            4.22              ...                 3                       \n",
       "2            4.43  B017RORXNI  ...                 9                       \n",
       "3            4.29              ...                                         \n",
       "4            3.57              ...                 6                       \n",
       "\n",
       "  publication_year                                                url  \\\n",
       "0             2006  https://www.goodreads.com/book/show/287141.The...   \n",
       "1             2009  https://www.goodreads.com/book/show/6066812-al...   \n",
       "2             1995  https://www.goodreads.com/book/show/89378.Dog_...   \n",
       "3                   https://www.goodreads.com/book/show/3209312-mo...   \n",
       "4             2005  https://www.goodreads.com/book/show/1698376.Wh...   \n",
       "\n",
       "                                           image_url  book_id ratings_count  \\\n",
       "0  https://s.gr-assets.com/assets/nophoto/book/11...   287141            46   \n",
       "1  https://images.gr-assets.com/books/1316637798m...  6066812            98   \n",
       "2  https://images.gr-assets.com/books/1360057676m...    89378          1331   \n",
       "3  https://s.gr-assets.com/assets/nophoto/book/11...  3209312            11   \n",
       "4  https://s.gr-assets.com/assets/nophoto/book/11...  1698376            23   \n",
       "\n",
       "   work_id                                              title  \\\n",
       "0   278578                      The Aeneid for Boys and Girls   \n",
       "1   701117  All's Fairy in Love and War (Avalon: Web of Ma...   \n",
       "2    86259                                         Dog Heaven   \n",
       "3  3242879  Moths and Mothers, Feathers and Fathers: A Sto...   \n",
       "4  1695373                                    What Do You Do?   \n",
       "\n",
       "                                title_without_series  \n",
       "0                      The Aeneid for Boys and Girls  \n",
       "1  All's Fairy in Love and War (Avalon: Web of Ma...  \n",
       "2                                         Dog Heaven  \n",
       "3  Moths and Mothers, Feathers and Fathers: A Sto...  \n",
       "4                                    What Do You Do?  \n",
       "\n",
       "[5 rows x 29 columns]"
      ]
     },
     "execution_count": 3,
     "metadata": {},
     "output_type": "execute_result"
    }
   ],
   "source": [
    "df.head()"
   ]
  },
  {
   "cell_type": "code",
   "execution_count": 5,
   "metadata": {},
   "outputs": [
    {
     "data": {
      "text/plain": [
       "(124082, 29)"
      ]
     },
     "execution_count": 5,
     "metadata": {},
     "output_type": "execute_result"
    }
   ],
   "source": [
    "df.shape"
   ]
  },
  {
   "cell_type": "code",
   "execution_count": 6,
   "metadata": {},
   "outputs": [
    {
     "data": {
      "text/plain": [
       "<matplotlib.axes._subplots.AxesSubplot at 0x11b8aae10>"
      ]
     },
     "execution_count": 6,
     "metadata": {},
     "output_type": "execute_result"
    },
    {
     "data": {
      "image/png": "[encoded data removed]",
      "text/plain": [
       "<Figure size 432x288 with 1 Axes>"
      ]
     },
     "metadata": {
      "needs_background": "light"
     },
     "output_type": "display_data"
    }
   ],
   "source": [
    "df['average_rating'].plot(kind='hist', bins=50)"
   ]
  },
  {
   "cell_type": "code",
   "execution_count": 7,
   "metadata": {},
   "outputs": [
    {
     "data": {
      "text/plain": [
       "count    124082.000000\n",
       "mean          3.910883\n",
       "std           0.364855\n",
       "min           0.000000\n",
       "25%           3.710000\n",
       "50%           3.940000\n",
       "75%           4.140000\n",
       "max           5.000000\n",
       "Name: average_rating, dtype: float64"
      ]
     },
     "execution_count": 7,
     "metadata": {},
     "output_type": "execute_result"
    }
   ],
   "source": [
    "df.average_rating.describe()"
   ]
  },
  {
   "cell_type": "code",
   "execution_count": 10,
   "metadata": {},
   "outputs": [
    {
     "data": {
      "text/plain": [
       "count    124082.000000\n",
       "mean         27.086209\n",
       "std         266.547028\n",
       "min           0.000000\n",
       "25%           2.000000\n",
       "50%           5.000000\n",
       "75%          15.000000\n",
       "max       49850.000000\n",
       "Name: text_reviews_count, dtype: float64"
      ]
     },
     "execution_count": 10,
     "metadata": {},
     "output_type": "execute_result"
    }
   ],
   "source": [
    "df['text_reviews_count'].describe()"
   ]
  },
  {
   "cell_type": "code",
   "execution_count": 14,
   "metadata": {},
   "outputs": [
    {
     "data": {
      "text/plain": [
       "1     21107\n",
       "2     15054\n",
       "3     11395\n",
       "4      8753\n",
       "5      7015\n",
       "6      5644\n",
       "7      4713\n",
       "8      3980\n",
       "9      3398\n",
       "10     2913\n",
       "Name: text_reviews_count, dtype: int64"
      ]
     },
     "execution_count": 14,
     "metadata": {},
     "output_type": "execute_result"
    }
   ],
   "source": [
    "df.text_reviews_count.value_counts(sort=True)[:10]"
   ]
  },
  {
   "cell_type": "code",
   "execution_count": 18,
   "metadata": {},
   "outputs": [],
   "source": []
  },
  {
   "cell_type": "code",
   "execution_count": 19,
   "metadata": {},
   "outputs": [],
   "source": [
    "BASE_GBOOKS_API_URL = \"https://www.googleapis.com/books/v1/volumes?q=\""
   ]
  },
  {
   "cell_type": "code",
   "execution_count": 20,
   "metadata": {},
   "outputs": [],
   "source": [
    "ISBN_PATTERN = \"[0-9]*\""
   ]
  },
  {
   "cell_type": "code",
   "execution_count": 31,
   "metadata": {},
   "outputs": [],
   "source": [
    "from urllib.request import urlopen"
   ]
  },
  {
   "cell_type": "code",
   "execution_count": 34,
   "metadata": {},
   "outputs": [],
   "source": [
    "import os"
   ]
  },
  {
   "cell_type": "code",
   "execution_count": 63,
   "metadata": {},
   "outputs": [],
   "source": [
    "url = BASE_GBOOKS_API_URL + '1934876569' + '&key={}'.format(API_KEY)"
   ]
  },
  {
   "cell_type": "code",
   "execution_count": 67,
   "metadata": {
    "scrolled": false
   },
   "outputs": [],
   "source": [
    "response = urlopen(url)\n",
    "book_json = json.load(response)"
   ]
  },
  {
   "cell_type": "code",
   "execution_count": 74,
   "metadata": {},
   "outputs": [],
   "source": [
    "image_url = book_json['items'][0]['volumeInfo']['imageLinks']['thumbnail']"
   ]
  },
  {
   "cell_type": "code",
   "execution_count": 78,
   "metadata": {},
   "outputs": [
    {
     "data": {
      "text/plain": [
       "'http://books.google.com/books/content?id=TukznDXbtHwC&printsec=frontcover&img=1&zoom=1&edge=curl&source=gbs_api'"
      ]
     },
     "execution_count": 78,
     "metadata": {},
     "output_type": "execute_result"
    }
   ],
   "source": [
    "image_url"
   ]
  },
  {
   "cell_type": "code",
   "execution_count": 47,
   "metadata": {},
   "outputs": [],
   "source": [
    "import json"
   ]
  },
  {
   "cell_type": "code",
   "execution_count": 48,
   "metadata": {},
   "outputs": [],
   "source": [
    "with open('volumes.json') as f:\n",
    "    data = json.load(f)"
   ]
  },
  {
   "cell_type": "code",
   "execution_count": 56,
   "metadata": {},
   "outputs": [],
   "source": [
    "thumb_url = data['items'][0]['volumeInfo']['imageLinks']['thumbnail']"
   ]
  },
  {
   "cell_type": "code",
   "execution_count": 58,
   "metadata": {},
   "outputs": [],
   "source": [
    "thumb_req = urlopen(thumb_url)"
   ]
  },
  {
   "cell_type": "code",
   "execution_count": 60,
   "metadata": {},
   "outputs": [],
   "source": [
    "thumb_file = open(os.path.join('1599150603' +'.png'), 'wb')"
   ]
  },
  {
   "cell_type": "code",
   "execution_count": 61,
   "metadata": {},
   "outputs": [],
   "source": [
    "thumb_file.write(thumb_req.read())\n",
    "thumb_file.close()"
   ]
  },
  {
   "cell_type": "code",
   "execution_count": null,
   "metadata": {},
   "outputs": [],
   "source": []
  }
 ],
 "metadata": {
  "kernelspec": {
   "display_name": "Python 3",
   "language": "python",
   "name": "python3"
  },
  "language_info": {
   "codemirror_mode": {
    "name": "ipython",
    "version": 3
   },
   "file_extension": ".py",
   "mimetype": "text/x-python",
   "name": "python",
   "nbconvert_exporter": "python",
   "pygments_lexer": "ipython3",
   "version": "3.7.4"
  }
 },
 "nbformat": 4,
 "nbformat_minor": 4
}
