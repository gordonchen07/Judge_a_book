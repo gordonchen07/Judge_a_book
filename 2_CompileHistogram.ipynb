{
 "cells": [
  {
   "cell_type": "code",
   "execution_count": 2,
   "metadata": {},
   "outputs": [],
   "source": [
    "import cv2\n",
    "import matplotlib.pyplot as plt\n",
    "import numpy as np\n",
    "import pandas as pd\n",
    "import os\n",
    "import matplotlib.image as mpimg\n",
    "from boto3 import client\n",
    "from io import BytesIO\n",
    "from tqdm import tqdm_notebook as tqdm\n",
    "import boto3"
   ]
  },
  {
   "cell_type": "code",
   "execution_count": 3,
   "metadata": {},
   "outputs": [
    {
     "name": "stdout",
     "output_type": "stream",
     "text": [
      "/Users/gordonchen/Documents/Projects/Judge_a_book/BookCovers\n"
     ]
    }
   ],
   "source": [
    "cd BookCovers/"
   ]
  },
  {
   "cell_type": "code",
   "execution_count": 4,
   "metadata": {},
   "outputs": [],
   "source": [
    "img = cv2.imread('1250052157.png')"
   ]
  },
  {
   "cell_type": "code",
   "execution_count": 5,
   "metadata": {},
   "outputs": [
    {
     "data": {
      "text/plain": [
       "(200, 128, 3)"
      ]
     },
     "execution_count": 5,
     "metadata": {},
     "output_type": "execute_result"
    }
   ],
   "source": [
    "img.shape"
   ]
  },
  {
   "cell_type": "code",
   "execution_count": 5,
   "metadata": {},
   "outputs": [],
   "source": [
    "def plothist(image):\n",
    "    color = ('b', 'g', 'r')\n",
    "    for i,col in enumerate(color):\n",
    "        histr = cv2.calcHist([image],[i],None,[256],[0,256])\n",
    "        plt.plot(histr,color = col)\n",
    "        plt.xlim([0,256])\n",
    "    plt.show()"
   ]
  },
  {
   "cell_type": "code",
   "execution_count": 6,
   "metadata": {},
   "outputs": [
    {
     "data": {
      "image/png": "[encoded data removed]",
      "text/plain": [
       "<Figure size 432x288 with 1 Axes>"
      ]
     },
     "metadata": {
      "needs_background": "light"
     },
     "output_type": "display_data"
    }
   ],
   "source": [
    "plothist(img)"
   ]
  },
  {
   "cell_type": "code",
   "execution_count": 7,
   "metadata": {},
   "outputs": [],
   "source": [
    "import os"
   ]
  },
  {
   "cell_type": "code",
   "execution_count": 8,
   "metadata": {},
   "outputs": [],
   "source": [
    "directory = os.fsencode('/Users/gordonchen/Documents/Projects/Judge_a_book/BookCovers')"
   ]
  },
  {
   "cell_type": "code",
   "execution_count": 15,
   "metadata": {},
   "outputs": [
    {
     "name": "stdout",
     "output_type": "stream",
     "text": [
      "1250052157.png\n"
     ]
    }
   ],
   "source": [
    "for file in os.listdir(directory)[:1]:\n",
    "    filename = os.fsdecode(file)\n",
    "    print(filename)\n",
    "    img = cv2.imread(filename)\n",
    "    red = [img[:,:,2].mean()]\n",
    "    blue = [img[:,:,0].mean()]\n",
    "    green = [img[:,:,1].mean()]\n",
    "    \n",
    "#     blue_hist = cv2.calcHist([img], [0], None, [8], [0,256])\n",
    "#     green_hist = cv2.calcHist([img], [1], None, [32], [0,256])\n",
    "#     red_hist = cv2.calcHist([img], [2], None, [32], [0,256])\n",
    "    df_blue = pd.DataFrame(data=blue, columns=['blue'])\n",
    "    df_green = pd.DataFrame(data=green, columns=['green'])\n",
    "    df_red = pd.DataFrame(data=red, columns=['red'])\n",
    "    result = pd.concat([df_blue, df_green, df_red], axis=1, sort=False)\n",
    "#     df_out = result.stack()\n",
    "#     df_out.index = df_out.index.map('{0[1]}_{0[0]}'.format)\n",
    "#     trans_df = df_out.to_frame().T\n",
    "    result.insert(0, 'isbn', filename[:-4])\n",
    "#     hist_df = trans_df"
   ]
  },
  {
   "cell_type": "code",
   "execution_count": 16,
   "metadata": {},
   "outputs": [
    {
     "data": {
      "text/html": [
       "<div>\n",
       "<style scoped>\n",
       "    .dataframe tbody tr th:only-of-type {\n",
       "        vertical-align: middle;\n",
       "    }\n",
       "\n",
       "    .dataframe tbody tr th {\n",
       "        vertical-align: top;\n",
       "    }\n",
       "\n",
       "    .dataframe thead th {\n",
       "        text-align: right;\n",
       "    }\n",
       "</style>\n",
       "<table border=\"1\" class=\"dataframe\">\n",
       "  <thead>\n",
       "    <tr style=\"text-align: right;\">\n",
       "      <th></th>\n",
       "      <th>isbn</th>\n",
       "      <th>blue</th>\n",
       "      <th>green</th>\n",
       "      <th>red</th>\n",
       "    </tr>\n",
       "  </thead>\n",
       "  <tbody>\n",
       "    <tr>\n",
       "      <th>0</th>\n",
       "      <td>1250052157</td>\n",
       "      <td>72.492539</td>\n",
       "      <td>149.762656</td>\n",
       "      <td>136.385234</td>\n",
       "    </tr>\n",
       "  </tbody>\n",
       "</table>\n",
       "</div>"
      ],
      "text/plain": [
       "         isbn       blue       green         red\n",
       "0  1250052157  72.492539  149.762656  136.385234"
      ]
     },
     "execution_count": 16,
     "metadata": {},
     "output_type": "execute_result"
    }
   ],
   "source": [
    "result"
   ]
  },
  {
   "cell_type": "code",
   "execution_count": null,
   "metadata": {},
   "outputs": [],
   "source": [
    "for file in os.listdir(directory)[1:]:\n",
    "    filename = os.fsdecode(file)\n",
    "    print(filename)\n",
    "    img = cv2.imread(filename)\n",
    "    blue_hist = cv2.calcHist([img], [0], None, [32], [0,256])\n",
    "    green_hist = cv2.calcHist([img], [1], None, [32], [0,256])\n",
    "    red_hist = cv2.calcHist([img], [2], None, [32], [0,256])\n",
    "    df_blue = pd.DataFrame(data=blue_hist, columns=['blue'])\n",
    "    df_green = pd.DataFrame(data=green_hist, columns=['green'])\n",
    "    df_red = pd.DataFrame(data=red_hist, columns=['red'])\n",
    "    result = pd.concat([df_blue, df_green, df_red], axis=1, sort=False)\n",
    "    df_out = result.stack()\n",
    "    df_out.index = df_out.index.map('{0[1]}_{0[0]}'.format)\n",
    "    trans_df = df_out.to_frame().T\n",
    "    trans_df.insert(0, 'isbn', filename[:-4])\n",
    "    hist_df.append(trans_df)"
   ]
  },
  {
   "cell_type": "code",
   "execution_count": 19,
   "metadata": {},
   "outputs": [],
   "source": [
    "bucket = 'judge-a-book'\n",
    "folder = 'BookCovers/'\n",
    "conn = client('s3')\n",
    "s3 = boto3.resource('s3')\n",
    "files_in_bucket = list(s3.Bucket('judge-a-book').objects.all())\n",
    "coversisbn = [file.key[11:-4] for file in files_in_bucket\n",
    "              if file.key.startswith('BookCovers')]\n",
    "histogramsisbn = [file.key[10:-5] for file in files_in_bucket\n",
    "                  if file.key.startswith('histograms')]\n",
    "leftover = list(set(coversisbn) - set(histogramsisbn))\n",
    "leftoverpngs = ['BookCovers/'+str(isbn)+'.png' for isbn in leftover]"
   ]
  },
  {
   "cell_type": "code",
   "execution_count": 20,
   "metadata": {},
   "outputs": [
    {
     "name": "stdout",
     "output_type": "stream",
     "text": [
      "BookCovers/1599901927.png\n"
     ]
    }
   ],
   "source": [
    "for image in leftoverpngs[:1]:\n",
    "    object = s3.Bucket(bucket).Object(image)\n",
    "    print(image)\n",
    "    with open('image.png', 'wb') as f:\n",
    "        object.download_fileobj(f)\n",
    "    img = cv2.imread('image.png')\n",
    "    red = [img[:,:,2].mean()]\n",
    "    blue = [img[:,:,0].mean()]\n",
    "    green = [img[:,:,1].mean()]\n",
    "    \n",
    "#     blue_hist = cv2.calcHist([img], [0], None, [32], [0, 256])\n",
    "#     green_hist = cv2.calcHist([img], [1], None, [32], [0, 256])\n",
    "#     red_hist = cv2.calcHist([img], [2], None, [32], [0, 256])\n",
    "    df_blue = pd.DataFrame(data=blue, columns=['blue'])\n",
    "    df_green = pd.DataFrame(data=green, columns=['green'])\n",
    "    df_red = pd.DataFrame(data=red, columns=['red'])\n",
    "    result = pd.concat([df_blue, df_green, df_red], axis=1, sort=False)\n",
    "#     df_out = result.stack()\n",
    "#     df_out.index = df_out.index.map('{0[1]}_{0[0]}'.format)\n",
    "#     trans_df = df_out.to_frame().T\n",
    "    result.insert(0, 'isbn', image[11:-4])\n",
    "#     hist_df = trans_df"
   ]
  },
  {
   "cell_type": "code",
   "execution_count": 21,
   "metadata": {},
   "outputs": [
    {
     "data": {
      "text/html": [
       "<div>\n",
       "<style scoped>\n",
       "    .dataframe tbody tr th:only-of-type {\n",
       "        vertical-align: middle;\n",
       "    }\n",
       "\n",
       "    .dataframe tbody tr th {\n",
       "        vertical-align: top;\n",
       "    }\n",
       "\n",
       "    .dataframe thead th {\n",
       "        text-align: right;\n",
       "    }\n",
       "</style>\n",
       "<table border=\"1\" class=\"dataframe\">\n",
       "  <thead>\n",
       "    <tr style=\"text-align: right;\">\n",
       "      <th></th>\n",
       "      <th>isbn</th>\n",
       "      <th>blue</th>\n",
       "      <th>green</th>\n",
       "      <th>red</th>\n",
       "    </tr>\n",
       "  </thead>\n",
       "  <tbody>\n",
       "    <tr>\n",
       "      <th>0</th>\n",
       "      <td>1599901927</td>\n",
       "      <td>141.225092</td>\n",
       "      <td>177.505561</td>\n",
       "      <td>215.409007</td>\n",
       "    </tr>\n",
       "  </tbody>\n",
       "</table>\n",
       "</div>"
      ],
      "text/plain": [
       "         isbn        blue       green         red\n",
       "0  1599901927  141.225092  177.505561  215.409007"
      ]
     },
     "execution_count": 21,
     "metadata": {},
     "output_type": "execute_result"
    }
   ],
   "source": [
    "result"
   ]
  },
  {
   "cell_type": "code",
   "execution_count": 23,
   "metadata": {},
   "outputs": [],
   "source": [
    "for image in leftoverpngs[1:]:\n",
    "    object = s3.Bucket(bucket).Object(image)\n",
    "    with open('image.png', 'wb') as f:\n",
    "        object.download_fileobj(f)\n",
    "    img = cv2.imread('image.png')\n",
    "    red = [img[:,:,2].mean()]\n",
    "    blue = [img[:,:,0].mean()]\n",
    "    green = [img[:,:,1].mean()]\n",
    "    \n",
    "#     blue_hist = cv2.calcHist([img], [0], None, [32], [0, 256])\n",
    "#     green_hist = cv2.calcHist([img], [1], None, [32], [0, 256])\n",
    "#     red_hist = cv2.calcHist([img], [2], None, [32], [0, 256])\n",
    "    df_blue = pd.DataFrame(data=blue, columns=['blue'])\n",
    "    df_green = pd.DataFrame(data=green, columns=['green'])\n",
    "    df_red = pd.DataFrame(data=red, columns=['red'])\n",
    "    trans_df = pd.concat([df_blue, df_green, df_red], axis=1, sort=False)\n",
    "#     df_out = result.stack()\n",
    "#     df_out.index = df_out.index.map('{0[1]}_{0[0]}'.format)\n",
    "#     trans_df = df_out.to_frame().T\n",
    "    trans_df.insert(0, 'isbn', image[11:-4])\n",
    "    result = result.append(trans_df, ignore_index=True)"
   ]
  },
  {
   "cell_type": "code",
   "execution_count": 25,
   "metadata": {},
   "outputs": [
    {
     "data": {
      "text/html": [
       "<div>\n",
       "<style scoped>\n",
       "    .dataframe tbody tr th:only-of-type {\n",
       "        vertical-align: middle;\n",
       "    }\n",
       "\n",
       "    .dataframe tbody tr th {\n",
       "        vertical-align: top;\n",
       "    }\n",
       "\n",
       "    .dataframe thead th {\n",
       "        text-align: right;\n",
       "    }\n",
       "</style>\n",
       "<table border=\"1\" class=\"dataframe\">\n",
       "  <thead>\n",
       "    <tr style=\"text-align: right;\">\n",
       "      <th></th>\n",
       "      <th>isbn</th>\n",
       "      <th>blue</th>\n",
       "      <th>green</th>\n",
       "      <th>red</th>\n",
       "    </tr>\n",
       "  </thead>\n",
       "  <tbody>\n",
       "    <tr>\n",
       "      <th>0</th>\n",
       "      <td>1599901927</td>\n",
       "      <td>141.225092</td>\n",
       "      <td>177.505561</td>\n",
       "      <td>215.409007</td>\n",
       "    </tr>\n",
       "    <tr>\n",
       "      <th>1</th>\n",
       "      <td>8415594828</td>\n",
       "      <td>102.218585</td>\n",
       "      <td>190.058614</td>\n",
       "      <td>187.763558</td>\n",
       "    </tr>\n",
       "    <tr>\n",
       "      <th>2</th>\n",
       "      <td>0515157635</td>\n",
       "      <td>63.026062</td>\n",
       "      <td>59.296692</td>\n",
       "      <td>59.767029</td>\n",
       "    </tr>\n",
       "    <tr>\n",
       "      <th>3</th>\n",
       "      <td>0590819194</td>\n",
       "      <td>238.626700</td>\n",
       "      <td>238.833428</td>\n",
       "      <td>238.665763</td>\n",
       "    </tr>\n",
       "    <tr>\n",
       "      <th>4</th>\n",
       "      <td>0395522781</td>\n",
       "      <td>195.211215</td>\n",
       "      <td>212.979706</td>\n",
       "      <td>219.304641</td>\n",
       "    </tr>\n",
       "    <tr>\n",
       "      <th>...</th>\n",
       "      <td>...</td>\n",
       "      <td>...</td>\n",
       "      <td>...</td>\n",
       "      <td>...</td>\n",
       "    </tr>\n",
       "    <tr>\n",
       "      <th>8783</th>\n",
       "      <td>0688175457</td>\n",
       "      <td>53.030022</td>\n",
       "      <td>95.143524</td>\n",
       "      <td>111.513954</td>\n",
       "    </tr>\n",
       "    <tr>\n",
       "      <th>8784</th>\n",
       "      <td>0374301204</td>\n",
       "      <td>165.966736</td>\n",
       "      <td>180.791382</td>\n",
       "      <td>176.979736</td>\n",
       "    </tr>\n",
       "    <tr>\n",
       "      <th>8785</th>\n",
       "      <td>0679879358</td>\n",
       "      <td>85.875685</td>\n",
       "      <td>166.886719</td>\n",
       "      <td>135.281693</td>\n",
       "    </tr>\n",
       "    <tr>\n",
       "      <th>8786</th>\n",
       "      <td>0061251941</td>\n",
       "      <td>151.653706</td>\n",
       "      <td>141.180172</td>\n",
       "      <td>110.717539</td>\n",
       "    </tr>\n",
       "    <tr>\n",
       "      <th>8787</th>\n",
       "      <td>0613869648</td>\n",
       "      <td>244.195124</td>\n",
       "      <td>244.195124</td>\n",
       "      <td>244.195124</td>\n",
       "    </tr>\n",
       "  </tbody>\n",
       "</table>\n",
       "<p>8788 rows × 4 columns</p>\n",
       "</div>"
      ],
      "text/plain": [
       "            isbn        blue       green         red\n",
       "0     1599901927  141.225092  177.505561  215.409007\n",
       "1     8415594828  102.218585  190.058614  187.763558\n",
       "2     0515157635   63.026062   59.296692   59.767029\n",
       "3     0590819194  238.626700  238.833428  238.665763\n",
       "4     0395522781  195.211215  212.979706  219.304641\n",
       "...          ...         ...         ...         ...\n",
       "8783  0688175457   53.030022   95.143524  111.513954\n",
       "8784  0374301204  165.966736  180.791382  176.979736\n",
       "8785  0679879358   85.875685  166.886719  135.281693\n",
       "8786  0061251941  151.653706  141.180172  110.717539\n",
       "8787  0613869648  244.195124  244.195124  244.195124\n",
       "\n",
       "[8788 rows x 4 columns]"
      ]
     },
     "execution_count": 25,
     "metadata": {},
     "output_type": "execute_result"
    }
   ],
   "source": [
    "result"
   ]
  },
  {
   "cell_type": "code",
   "execution_count": 24,
   "metadata": {},
   "outputs": [],
   "source": [
    "result.to_csv('average_rbg.csv')"
   ]
  },
  {
   "cell_type": "code",
   "execution_count": null,
   "metadata": {},
   "outputs": [],
   "source": []
  },
  {
   "cell_type": "code",
   "execution_count": null,
   "metadata": {},
   "outputs": [],
   "source": []
  },
  {
   "cell_type": "code",
   "execution_count": null,
   "metadata": {},
   "outputs": [],
   "source": []
  },
  {
   "cell_type": "code",
   "execution_count": null,
   "metadata": {},
   "outputs": [],
   "source": []
  }
 ],
 "metadata": {
  "kernelspec": {
   "display_name": "Python 3",
   "language": "python",
   "name": "python3"
  },
  "language_info": {
   "codemirror_mode": {
    "name": "ipython",
    "version": 3
   },
   "file_extension": ".py",
   "mimetype": "text/x-python",
   "name": "python",
   "nbconvert_exporter": "python",
   "pygments_lexer": "ipython3",
   "version": "3.7.7"
  }
 },
 "nbformat": 4,
 "nbformat_minor": 4
}
