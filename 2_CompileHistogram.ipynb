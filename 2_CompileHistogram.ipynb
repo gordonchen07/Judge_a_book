{
 "cells": [
  {
   "cell_type": "code",
   "execution_count": null,
   "metadata": {},
   "outputs": [],
   "source": [
    "import boto3\n",
    "from boto3 import client\n",
    "import cv2"
   ]
  },
  {
   "cell_type": "code",
   "execution_count": null,
   "metadata": {},
   "outputs": [],
   "source": [
    "#Access the book covers stored in the AWS S3 bucket\n",
    "\n",
    "bucket = 'judge-a-book'\n",
    "folder = 'BookCovers/'\n",
    "conn = client('s3')\n",
    "s3 = boto3.resource('s3')\n",
    "files_in_bucket = list(s3.Bucket('judge-a-book').objects.all())\n",
    "coversisbn = [file.key[11:-4] for file in files_in_bucket\n",
    "              if file.key.startswith('BookCovers')]\n",
    "histogramsisbn = [file.key[10:-5] for file in files_in_bucket\n",
    "                  if file.key.startswith('histograms')]\n",
    "leftover = list(set(coversisbn) - set(histogramsisbn))\n",
    "leftoverpngs = ['BookCovers/'+str(isbn)+'.png' for isbn in leftover]"
   ]
  },
  {
   "cell_type": "code",
   "execution_count": null,
   "metadata": {},
   "outputs": [],
   "source": [
    "#Extract color histograms from each book cover image and compile into a DataFrame\n",
    "\n",
    "final_df = pd.DataFrame()\n",
    "for image in leftoverpngs[:]:\n",
    "    object = s3.Bucket(bucket).Object(image)\n",
    "    with open('image.png', 'wb') as f:\n",
    "        object.download_fileobj(f)\n",
    "    img = cv2.imread('image.png')\n",
    "    blue_hist = cv2.calcHist([img], [0], None, [32], [0, 256])\n",
    "    green_hist = cv2.calcHist([img], [1], None, [32], [0, 256])\n",
    "    red_hist = cv2.calcHist([img], [2], None, [32], [0, 256])\n",
    "    df_hists = pd.DataFrame({'blue': blue_hist[:,0], 'green': green_hist[:,0], 'red': red_hist[:,0]}).stack()\n",
    "    df_hists.index = df_hists.index.map('{0[1]}_{0[0]}'.format)\n",
    "    temp_df = df_hists.to_frame().T\n",
    "    temp_df.insert(0, 'isbn', image[11:-4])\n",
    "    final_df = final_df.append(temp_df, ignore_index=True)\n",
    "final_df.to_csv('histograms.csv')"
   ]
  },
  {
   "cell_type": "code",
   "execution_count": null,
   "metadata": {},
   "outputs": [],
   "source": [
    "#Aggregate average color value for each book cover image and compile into DataFrame\n",
    "\n",
    "average_rbg = pd.DataFrame()\n",
    "for image in leftoverpngs[:]:\n",
    "    object = s3.Bucket(bucket).Object(image)\n",
    "    with open('image.png', 'wb') as f:\n",
    "        object.download_fileobj(f)\n",
    "    img = cv2.imread('image.png')\n",
    "    red = [img[:,:,2].mean()]\n",
    "    blue = [img[:,:,0].mean()]\n",
    "    green = [img[:,:,1].mean()]\n",
    "    df_hists = pd.DataFrame({'blue': blue[:], 'green': green[:], 'red': red[:]}).stack()\n",
    "    df_hists.index = df_hists.index.map('{0[1]}'.format)\n",
    "    temp_df = df_hists.to_frame().T\n",
    "    temp_df.insert(0, 'isbn', image[11:-4])\n",
    "    average_rbg = average_rbg.append(temp_df, ignore_index=True)\n",
    "average_rbg.to_csv('average_rbg.csv')"
   ]
  }
 ],
 "metadata": {
  "kernelspec": {
   "display_name": "Python 3",
   "language": "python",
   "name": "python3"
  },
  "language_info": {
   "codemirror_mode": {
    "name": "ipython",
    "version": 3
   },
   "file_extension": ".py",
   "mimetype": "text/x-python",
   "name": "python",
   "nbconvert_exporter": "python",
   "pygments_lexer": "ipython3",
   "version": "3.7.7"
  }
 },
 "nbformat": 4,
 "nbformat_minor": 4
}
